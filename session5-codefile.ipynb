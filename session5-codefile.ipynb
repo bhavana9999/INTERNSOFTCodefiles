{
 "cells": [
  {
   "cell_type": "markdown",
   "metadata": {},
   "source": [
    "## Modules and packages"
   ]
  },
  {
   "cell_type": "code",
   "execution_count": 1,
   "metadata": {},
   "outputs": [],
   "source": [
    "#importing the math module \n",
    "import math"
   ]
  },
  {
   "cell_type": "code",
   "execution_count": 2,
   "metadata": {},
   "outputs": [
    {
     "data": {
      "text/plain": [
       "3"
      ]
     },
     "execution_count": 2,
     "metadata": {},
     "output_type": "execute_result"
    }
   ],
   "source": [
    "#using a function in the math module\n",
    "math.ceil(2.4)"
   ]
  },
  {
   "cell_type": "code",
   "execution_count": 3,
   "metadata": {},
   "outputs": [
    {
     "data": {
      "text/plain": [
       "2"
      ]
     },
     "execution_count": 3,
     "metadata": {},
     "output_type": "execute_result"
    }
   ],
   "source": [
    "math.floor(2.4)"
   ]
  },
  {
   "cell_type": "markdown",
   "metadata": {},
   "source": [
    "### Exploring built-in modules"
   ]
  },
  {
   "cell_type": "code",
   "execution_count": 4,
   "metadata": {},
   "outputs": [],
   "source": [
    "#dir()\n",
    "#help()"
   ]
  },
  {
   "cell_type": "code",
   "execution_count": 5,
   "metadata": {},
   "outputs": [
    {
     "name": "stdout",
     "output_type": "stream",
     "text": [
      "['__doc__', '__loader__', '__name__', '__package__', '__spec__', 'acos', 'acosh', 'asin', 'asinh', 'atan', 'atan2', 'atanh', 'ceil', 'copysign', 'cos', 'cosh', 'degrees', 'e', 'erf', 'erfc', 'exp', 'expm1', 'fabs', 'factorial', 'floor', 'fmod', 'frexp', 'fsum', 'gamma', 'gcd', 'hypot', 'inf', 'isclose', 'isfinite', 'isinf', 'isnan', 'ldexp', 'lgamma', 'log', 'log10', 'log1p', 'log2', 'modf', 'nan', 'pi', 'pow', 'radians', 'remainder', 'sin', 'sinh', 'sqrt', 'tan', 'tanh', 'tau', 'trunc']\n"
     ]
    }
   ],
   "source": [
    "print(dir(math))"
   ]
  },
  {
   "cell_type": "code",
   "execution_count": 6,
   "metadata": {},
   "outputs": [
    {
     "name": "stdout",
     "output_type": "stream",
     "text": [
      "Help on built-in function ceil in module math:\n",
      "\n",
      "ceil(x, /)\n",
      "    Return the ceiling of x as an Integral.\n",
      "    \n",
      "    This is the smallest integer >= x.\n",
      "\n"
     ]
    }
   ],
   "source": [
    "help(math.ceil)"
   ]
  },
  {
   "cell_type": "markdown",
   "metadata": {},
   "source": [
    "### Writing modules and pakages"
   ]
  },
  {
   "cell_type": "code",
   "execution_count": 7,
   "metadata": {},
   "outputs": [],
   "source": [
    "#assuming that we created a directory with name foo and a package inside it called bar,then it can be imported in two ways\n",
    "#import foo.bar\n",
    "#or\n",
    "#from foo import bar"
   ]
  },
  {
   "cell_type": "code",
   "execution_count": 8,
   "metadata": {},
   "outputs": [],
   "source": [
    "#overriding the __all__ variable in __init__.py file to do the same\n",
    "#__init__.py:\n",
    "#  __al__=[\"bar\"]"
   ]
  },
  {
   "cell_type": "markdown",
   "metadata": {},
   "source": [
    "### Errors and exception handling"
   ]
  },
  {
   "cell_type": "code",
   "execution_count": 9,
   "metadata": {},
   "outputs": [],
   "source": [
    "#this throws an error\n",
    "#print('hello)"
   ]
  },
  {
   "cell_type": "markdown",
   "metadata": {},
   "source": [
    "### try and except"
   ]
  },
  {
   "cell_type": "code",
   "execution_count": 10,
   "metadata": {},
   "outputs": [
    {
     "name": "stdout",
     "output_type": "stream",
     "text": [
      "content written successfully\n"
     ]
    }
   ],
   "source": [
    "#sample code that opens and writes a file\n",
    "try:\n",
    "    f1=open(\"testfile\",'w')\n",
    "    f1.write('hi bhavana')\n",
    "except IOError:\n",
    "    #checks for ioerror and then execute this block\n",
    "    print(\"error:couldnt find the file or read the data\")\n",
    "else:\n",
    "    print('content written successfully')\n",
    "    f1.close()"
   ]
  },
  {
   "cell_type": "code",
   "execution_count": 11,
   "metadata": {},
   "outputs": [
    {
     "name": "stdout",
     "output_type": "stream",
     "text": [
      "error:couldnt find the file or read the data\n"
     ]
    }
   ],
   "source": [
    "#opening in read mode and trying to write throws error\n",
    "try:\n",
    "    f1=open(\"testfile\",'r')\n",
    "    f1.write('hi bhavana')\n",
    "except IOError:\n",
    "    #checks for ioerror and then execute this block\n",
    "    print(\"error:couldnt find the file or read the data\")\n",
    "else:\n",
    "    print('content written successfully')\n",
    "    f1.close()"
   ]
  },
  {
   "cell_type": "code",
   "execution_count": 12,
   "metadata": {},
   "outputs": [
    {
     "name": "stdout",
     "output_type": "stream",
     "text": [
      "content written successfully\n"
     ]
    }
   ],
   "source": [
    "#using just except (generalizing)\n",
    "try:\n",
    "    f1=open(\"testfile\",'w')\n",
    "    f1.write('hi bhavana')\n",
    "except:\n",
    "    #checks for ioerror and then execute this block\n",
    "    print(\"error:couldnt find the file or read the data\")\n",
    "else:\n",
    "    print('content written successfully')\n",
    "    f1.close()"
   ]
  },
  {
   "cell_type": "code",
   "execution_count": 13,
   "metadata": {},
   "outputs": [],
   "source": [
    "#using finally"
   ]
  },
  {
   "cell_type": "code",
   "execution_count": 14,
   "metadata": {},
   "outputs": [
    {
     "name": "stdout",
     "output_type": "stream",
     "text": [
      "will always execute finally block\n"
     ]
    }
   ],
   "source": [
    "try:\n",
    "    f1=open(\"testfile\",\"w\")\n",
    "    f1.write('hello world')\n",
    "finally:\n",
    "    print(\"will always execute finally block\")"
   ]
  },
  {
   "cell_type": "code",
   "execution_count": 15,
   "metadata": {},
   "outputs": [],
   "source": [
    "#creating a func\n",
    "def askint():\n",
    "    try:\n",
    "        val=int(input(\"please enter an integer:\"))\n",
    "    except:\n",
    "        print(\"only integer is to be given\")\n",
    "    finally:\n",
    "        print(\"finally block\")\n",
    "    print(val)    "
   ]
  },
  {
   "cell_type": "code",
   "execution_count": 16,
   "metadata": {},
   "outputs": [
    {
     "name": "stdout",
     "output_type": "stream",
     "text": [
      "please enter an integer:45\n",
      "finally block\n",
      "45\n"
     ]
    }
   ],
   "source": [
    "askint()"
   ]
  },
  {
   "cell_type": "code",
   "execution_count": 17,
   "metadata": {},
   "outputs": [
    {
     "name": "stdout",
     "output_type": "stream",
     "text": [
      "please enter an integer:56\n",
      "finally block\n",
      "56\n"
     ]
    }
   ],
   "source": [
    "askint()"
   ]
  },
  {
   "cell_type": "code",
   "execution_count": 18,
   "metadata": {},
   "outputs": [],
   "source": [
    "#looping until they enter an integer\n",
    "def askint():\n",
    "    try:\n",
    "        val=int(input(\"please enter an integer:\"))\n",
    "    except:\n",
    "        print(\"only integer is to be given\")\n",
    "        val=int(input(\"please enter an integer:\"))\n",
    "    finally:\n",
    "        print(\"finally block\")\n",
    "    print(val)"
   ]
  },
  {
   "cell_type": "code",
   "execution_count": 19,
   "metadata": {},
   "outputs": [
    {
     "name": "stdout",
     "output_type": "stream",
     "text": [
      "please enter an integer:216\n",
      "finally block\n",
      "216\n"
     ]
    }
   ],
   "source": [
    "askint()"
   ]
  },
  {
   "cell_type": "markdown",
   "metadata": {},
   "source": [
    "### Database connectivity and operations using python"
   ]
  },
  {
   "cell_type": "markdown",
   "metadata": {},
   "source": [
    "Following is the example of connecting with MySQL database \"my_database1\" and creating table grades1 and inserting values inside it."
   ]
  },
  {
   "cell_type": "code",
   "execution_count": 20,
   "metadata": {},
   "outputs": [
    {
     "data": {
      "text/plain": [
       "<sqlite3.Cursor at 0x1ce64130420>"
      ]
     },
     "execution_count": 20,
     "metadata": {},
     "output_type": "execute_result"
    }
   ],
   "source": [
    "#!/usr/bin/python\n",
    "import sqlite3\n",
    "#connecting with database\n",
    "db=sqlite3.connect(\"my_database1.db\")\n",
    "#dropping the table if it already exists\n",
    "db.execute(\"drop table if exists grades1\")\n",
    "#creating the table grades1\n",
    "db.execute(\"create table grades1(id int,name text,score int)\")\n",
    "#inserting values into the table\n",
    "db.execute(\"insert into grades1(id,name,score) values(725,'bhavana',96)\")\n",
    "db.execute(\"insert into grades1(id,name,score) values(751,'sreeja',97)\")\n",
    "db.execute(\"insert into grades1(id,name,score) values(731,'millee',98)\")\n",
    "db.execute(\"insert into grades1(id,name,score) values(744,'riya',97)\")\n",
    "db.execute(\"insert into grades1(id,name,score) values(749,'tarun tiwari',96)\")"
   ]
  },
  {
   "cell_type": "code",
   "execution_count": 21,
   "metadata": {},
   "outputs": [],
   "source": [
    "db.commit()"
   ]
  },
  {
   "cell_type": "code",
   "execution_count": 22,
   "metadata": {},
   "outputs": [
    {
     "name": "stdout",
     "output_type": "stream",
     "text": [
      "(725, 'bhavana', 96)\n",
      "------------------------------------------------------------\n",
      "(731, 'millee', 98)\n",
      "------------------------------------------------------------\n",
      "(744, 'riya', 97)\n",
      "------------------------------------------------------------\n",
      "(749, 'tarun tiwari', 96)\n",
      "------------------------------------------------------------\n",
      "(751, 'sreeja', 97)\n",
      "------------------------------------------------------------\n"
     ]
    }
   ],
   "source": [
    "#retrieving data from database\n",
    "results=db.execute(\"select * from grades1 order by id\")\n",
    "for row in results:\n",
    "    print(row)\n",
    "    print(\"-\"*60)    "
   ]
  },
  {
   "cell_type": "code",
   "execution_count": 23,
   "metadata": {},
   "outputs": [
    {
     "name": "stdout",
     "output_type": "stream",
     "text": [
      "(731, 'millee', 98)\n",
      "------------------------------------------------------------\n"
     ]
    }
   ],
   "source": [
    "results=db.execute(\"select * from grades1 where name='millee'\")\n",
    "for row in results:\n",
    "    print(row)\n",
    "    print(\"-\"*60)   "
   ]
  },
  {
   "cell_type": "code",
   "execution_count": 24,
   "metadata": {},
   "outputs": [
    {
     "name": "stdout",
     "output_type": "stream",
     "text": [
      "(751, 'sreeja', 97)\n",
      "------------------------------------------------------------\n",
      "(731, 'millee', 98)\n",
      "------------------------------------------------------------\n",
      "(744, 'riya', 97)\n",
      "------------------------------------------------------------\n"
     ]
    }
   ],
   "source": [
    "results=db.execute(\"select * from grades1 where score>96\")\n",
    "for row in results:\n",
    "    print(row)\n",
    "    print(\"-\"*60) "
   ]
  },
  {
   "cell_type": "code",
   "execution_count": 25,
   "metadata": {},
   "outputs": [
    {
     "name": "stdout",
     "output_type": "stream",
     "text": [
      "('millee', 98)\n",
      "------------------------------------------------------------\n",
      "('sreeja', 97)\n",
      "------------------------------------------------------------\n",
      "('riya', 97)\n",
      "------------------------------------------------------------\n",
      "('bhavana', 96)\n",
      "------------------------------------------------------------\n",
      "('tarun tiwari', 96)\n",
      "------------------------------------------------------------\n"
     ]
    }
   ],
   "source": [
    "results=db.execute(\"select name,score from grades1 order by score desc\")\n",
    "for row in results:\n",
    "    print(row)\n",
    "    print(\"-\"*60) "
   ]
  },
  {
   "cell_type": "code",
   "execution_count": 26,
   "metadata": {},
   "outputs": [
    {
     "name": "stdout",
     "output_type": "stream",
     "text": [
      "('bhavana', 96)\n",
      "------------------------------------------------------------\n",
      "('tarun tiwari', 96)\n",
      "------------------------------------------------------------\n",
      "('sreeja', 97)\n",
      "------------------------------------------------------------\n",
      "('riya', 97)\n",
      "------------------------------------------------------------\n",
      "('millee', 98)\n",
      "------------------------------------------------------------\n"
     ]
    }
   ],
   "source": [
    "results=db.execute(\"select name,score from grades1 order by score\")\n",
    "for row in results:\n",
    "    print(row)\n",
    "    print(\"-\"*60) "
   ]
  }
 ],
 "metadata": {
  "kernelspec": {
   "display_name": "Python 3",
   "language": "python",
   "name": "python3"
  },
  "language_info": {
   "codemirror_mode": {
    "name": "ipython",
    "version": 3
   },
   "file_extension": ".py",
   "mimetype": "text/x-python",
   "name": "python",
   "nbconvert_exporter": "python",
   "pygments_lexer": "ipython3",
   "version": "3.7.6"
  }
 },
 "nbformat": 4,
 "nbformat_minor": 4
}
